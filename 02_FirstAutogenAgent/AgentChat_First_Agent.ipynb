{
 "cells": [
  {
   "cell_type": "markdown",
   "metadata": {},
   "source": [
    "# Introduction to AgentChat API with First AssistantAgent  \n",
    "We’ll use the AgentChat API to create a simple `AssistantAgent` and explore its capabilities.  "
   ]
  },
  {
   "cell_type": "code",
   "execution_count": 2,
   "metadata": {},
   "outputs": [],
   "source": [
    "from autogen_agentchat.agents import AssistantAgent\n",
    "from autogen_ext.models.openai import OpenAIChatCompletionClient\n",
    "from dotenv import load_dotenv\n",
    "import os\n",
    "\n",
    "load_dotenv()\n",
    "api_key = os.getenv('GEMINI_API_KEY')\n",
    "# print(\"API Key:\", api_key)  # Debugging line to check if the key is loaded correctly"
   ]
  },
  {
   "cell_type": "code",
   "execution_count": 3,
   "metadata": {
    "notebookRunGroups": {
     "groupValue": "1"
    }
   },
   "outputs": [],
   "source": [
    "gemini_model_client = OpenAIChatCompletionClient(model = 'gemini-1.5-flash-8b',api_key=api_key)"
   ]
  },
  {
   "cell_type": "markdown",
   "metadata": {},
   "source": [
    "## Creating Our First AssistantAgent  \n",
    "The `AssistantAgent` is a versatile agent for conversations, powered by AgentChat.  "
   ]
  },
  {
   "cell_type": "code",
   "execution_count": 4,
   "metadata": {},
   "outputs": [],
   "source": [
    "geminiAssistant = AssistantAgent(name = \"assistant\",model_client=gemini_model_client,description='A Basic first Agent')"
   ]
  },
  {
   "cell_type": "markdown",
   "metadata": {},
   "source": [
    "## Testing the AssistantAgent  \n",
    "We’ll use the `run` method to send a task and get a response.  "
   ]
  },
  {
   "cell_type": "code",
   "execution_count": 5,
   "metadata": {},
   "outputs": [
    {
     "name": "stdout",
     "output_type": "stream",
     "text": [
      "messages=[TextMessage(id='d9143c85-c4ab-489d-931c-90b675ec9d98', source='user', models_usage=None, metadata={}, created_at=datetime.datetime(2025, 8, 24, 6, 58, 20, 825749, tzinfo=datetime.timezone.utc), content=\"What's the capital of India?\", type='TextMessage'), TextMessage(id='105f31e7-284b-4b2f-8380-640f6cecd025', source='assistant', models_usage=RequestUsage(prompt_tokens=32, completion_tokens=6), metadata={}, created_at=datetime.datetime(2025, 8, 24, 6, 58, 28, 346927, tzinfo=datetime.timezone.utc), content='New Delhi\\n\\nTERMINATE\\n', type='TextMessage')] stop_reason=None\n"
     ]
    }
   ],
   "source": [
    "result = await geminiAssistant.run(task=\"What's the capital of India?\")\n",
    "\n",
    "print(result)"
   ]
  },
  {
   "cell_type": "markdown",
   "metadata": {},
   "source": [
    "messages=[TextMessage(id='d9143c85-c4ab-489d-931c-90b675ec9d98', source='user', models_usage=None, metadata={}, created_at=datetime.datetime(2025, 8, 24, 6, 58, 20, 825749, tzinfo=datetime.timezone.utc), content=\"What's the capital of India?\", type='TextMessage'), TextMessage(id='105f31e7-284b-4b2f-8380-640f6cecd025', source='assistant', models_usage=RequestUsage(prompt_tokens=32, completion_tokens=6), metadata={}, created_at=datetime.datetime(2025, 8, 24, 6, 58, 28, 346927, tzinfo=datetime.timezone.utc), content='New Delhi\\n\\nTERMINATE\\n', type='TextMessage')] stop_reason=None"
   ]
  },
  {
   "cell_type": "code",
   "execution_count": 6,
   "metadata": {},
   "outputs": [
    {
     "name": "stdout",
     "output_type": "stream",
     "text": [
      "[TextMessage(id='d9143c85-c4ab-489d-931c-90b675ec9d98', source='user', models_usage=None, metadata={}, created_at=datetime.datetime(2025, 8, 24, 6, 58, 20, 825749, tzinfo=datetime.timezone.utc), content=\"What's the capital of India?\", type='TextMessage'), TextMessage(id='105f31e7-284b-4b2f-8380-640f6cecd025', source='assistant', models_usage=RequestUsage(prompt_tokens=32, completion_tokens=6), metadata={}, created_at=datetime.datetime(2025, 8, 24, 6, 58, 28, 346927, tzinfo=datetime.timezone.utc), content='New Delhi\\n\\nTERMINATE\\n', type='TextMessage')]\n"
     ]
    }
   ],
   "source": [
    "print(result.messages)"
   ]
  },
  {
   "cell_type": "code",
   "execution_count": 7,
   "metadata": {},
   "outputs": [
    {
     "name": "stdout",
     "output_type": "stream",
     "text": [
      "New Delhi\n",
      "\n",
      "TERMINATE\n",
      "\n"
     ]
    }
   ],
   "source": [
    "print(result.messages[-1].content)"
   ]
  },
  {
   "cell_type": "markdown",
   "metadata": {},
   "source": [
    "### Lets Use **OLLAMA**"
   ]
  },
  {
   "cell_type": "code",
   "execution_count": 8,
   "metadata": {},
   "outputs": [
    {
     "data": {
      "text/plain": [
       "True"
      ]
     },
     "execution_count": 8,
     "metadata": {},
     "output_type": "execute_result"
    }
   ],
   "source": [
    "from autogen_agentchat.agents import AssistantAgent\n",
    "from autogen_ext.models.ollama import OllamaChatCompletionClient\n",
    "from dotenv import load_dotenv\n",
    "import os\n",
    "\n",
    "load_dotenv()"
   ]
  },
  {
   "cell_type": "code",
   "execution_count": 9,
   "metadata": {},
   "outputs": [],
   "source": [
    "ollama_model_client = OllamaChatCompletionClient(model = 'llama3')"
   ]
  },
  {
   "cell_type": "code",
   "execution_count": 10,
   "metadata": {},
   "outputs": [],
   "source": [
    "ollamaAssistant = AssistantAgent(name = \"assistant\",model_client=ollama_model_client,description='A Basic Ollama first Agent')"
   ]
  },
  {
   "cell_type": "code",
   "execution_count": 11,
   "metadata": {},
   "outputs": [],
   "source": [
    "result = await ollamaAssistant.run(task=\"What's the capital of India?\")"
   ]
  },
  {
   "cell_type": "code",
   "execution_count": 14,
   "metadata": {},
   "outputs": [
    {
     "name": "stdout",
     "output_type": "stream",
     "text": [
      "messages=[TextMessage(id='3ee388ed-4b8a-4e9f-b23f-9779e871a025', source='user', models_usage=None, metadata={}, created_at=datetime.datetime(2025, 8, 24, 7, 6, 49, 51024, tzinfo=datetime.timezone.utc), content=\"What's the capital of India?\", type='TextMessage'), TextMessage(id='7e6a7861-ab2d-4b06-9a16-3aba48d6754b', source='assistant', models_usage=RequestUsage(prompt_tokens=46, completion_tokens=9), metadata={}, created_at=datetime.datetime(2025, 8, 24, 7, 6, 56, 283503, tzinfo=datetime.timezone.utc), content='The capital of India is New Delhi!', type='TextMessage')] stop_reason=None\n"
     ]
    }
   ],
   "source": [
    "print(result)"
   ]
  },
  {
   "cell_type": "code",
   "execution_count": 15,
   "metadata": {},
   "outputs": [
    {
     "name": "stdout",
     "output_type": "stream",
     "text": [
      "The capital of India is New Delhi!\n"
     ]
    }
   ],
   "source": [
    "print(result.messages[-1].content)"
   ]
  }
 ],
 "metadata": {
  "kernelspec": {
   "display_name": "autogencrashcourse",
   "language": "python",
   "name": "python3"
  },
  "language_info": {
   "codemirror_mode": {
    "name": "ipython",
    "version": 3
   },
   "file_extension": ".py",
   "mimetype": "text/x-python",
   "name": "python",
   "nbconvert_exporter": "python",
   "pygments_lexer": "ipython3",
   "version": "3.13.2"
  }
 },
 "nbformat": 4,
 "nbformat_minor": 2
}

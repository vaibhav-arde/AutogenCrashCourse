{
 "cells": [
  {
   "cell_type": "markdown",
   "id": "56ac296d",
   "metadata": {},
   "source": [
    "# Using Autogen with OpenRouter API ( Free API Key :) "
   ]
  },
  {
   "cell_type": "markdown",
   "id": "395be4eb",
   "metadata": {},
   "source": [
    "1. OpenAI\n",
    "2. Local ollama setup (llama or mistral)\n"
   ]
  },
  {
   "cell_type": "code",
   "execution_count": 1,
   "id": "68c71357",
   "metadata": {},
   "outputs": [
    {
     "data": {
      "text/plain": [
       "True"
      ]
     },
     "execution_count": 1,
     "metadata": {},
     "output_type": "execute_result"
    }
   ],
   "source": [
    "import asyncio\n",
    "from autogen_agentchat.agents import AssistantAgent\n",
    "from autogen_agentchat.teams import SelectorGroupChat\n",
    "from autogen_ext.models.openai import OpenAIChatCompletionClient\n",
    "from autogen_agentchat.conditions import TextMentionTermination\n",
    "from dotenv import load_dotenv\n",
    "import os\n",
    "\n",
    "# Load API key\n",
    "load_dotenv()"
   ]
  },
  {
   "cell_type": "code",
   "execution_count": 2,
   "id": "db229e0a",
   "metadata": {},
   "outputs": [],
   "source": [
    "api_key = os.getenv('OPENROUTER_API_KEY')\n"
   ]
  },
  {
   "cell_type": "code",
   "execution_count": 3,
   "id": "11abffcf",
   "metadata": {},
   "outputs": [
    {
     "name": "stderr",
     "output_type": "stream",
     "text": [
      "/Users/vaibhavarde/Desktop/Autogen/AutogenCrashCourse/.venv/lib/python3.13/site-packages/autogen_ext/models/openai/_openai_client.py:453: UserWarning: Missing required field 'structured_output' in ModelInfo. This field will be required in a future version of AutoGen.\n",
      "  validate_model_info(self._model_info)\n"
     ]
    }
   ],
   "source": [
    "open_router_model_client =  OpenAIChatCompletionClient(\n",
    "    base_url=\"https://openrouter.ai/api/v1\",\n",
    "    model=\"deepseek/deepseek-r1-0528:free\",\n",
    "    api_key = api_key,\n",
    "    model_info={\n",
    "        \"family\":'deepseek',\n",
    "        \"vision\" :True,\n",
    "        \"function_calling\":True,\n",
    "        \"json_output\": False\n",
    "    }\n",
    ")"
   ]
  },
  {
   "cell_type": "code",
   "execution_count": 4,
   "id": "522b14cf",
   "metadata": {},
   "outputs": [],
   "source": [
    "assistant_agent1 = AssistantAgent(\n",
    "    name = 'helpful_agent',\n",
    "    model_client = open_router_model_client,\n",
    "    system_message='You are a helpful assistant Agent'\n",
    ")"
   ]
  },
  {
   "cell_type": "code",
   "execution_count": 5,
   "id": "4b83b8aa",
   "metadata": {},
   "outputs": [
    {
     "name": "stdout",
     "output_type": "stream",
     "text": [
      "[TextMessage(id='c9155fa3-d51d-44e4-8d98-e9fec2c8af62', source='user', models_usage=None, metadata={}, created_at=datetime.datetime(2025, 8, 27, 10, 49, 21, 620329, tzinfo=datetime.timezone.utc), content='Hey how are you today ?', type='TextMessage'), TextMessage(id='d779457e-ffeb-4e11-9b9b-ac35333bcc3e', source='helpful_agent', models_usage=RequestUsage(prompt_tokens=18, completion_tokens=270), metadata={}, created_at=datetime.datetime(2025, 8, 27, 10, 49, 29, 625395, tzinfo=datetime.timezone.utc), content=\"Hey! I'm doing great — ready to help you with anything at all. 😊  \\nHow about you? What's on your mind today?  \\n\\n—  \\n*(Feel free to ask me anything — questions, ideas, tasks, or just to chat!)*  \\n💬 **Assistant**\", type='TextMessage')]\n"
     ]
    }
   ],
   "source": [
    "result = await assistant_agent1.run(task = 'Hey how are you today ?')\n",
    "print(result.messages)"
   ]
  },
  {
   "cell_type": "code",
   "execution_count": 6,
   "id": "c3cfb540",
   "metadata": {},
   "outputs": [
    {
     "data": {
      "text/plain": [
       "\"I'm doing great, thanks for asking! 😊 Since I'm an AI, I don't have feelings, but I'm always ready to help you. How about you—how's your day going? What's on your mind?\""
      ]
     },
     "execution_count": 6,
     "metadata": {},
     "output_type": "execute_result"
    }
   ],
   "source": [
    "result.messages[-1].content"
   ]
  },
  {
   "cell_type": "code",
   "execution_count": 6,
   "id": "ba0008c7",
   "metadata": {},
   "outputs": [
    {
     "name": "stdout",
     "output_type": "stream",
     "text": [
      "[TextMessage(id='be1b6213-6071-4286-84eb-6b4a3edca6a7', source='user', models_usage=None, metadata={}, created_at=datetime.datetime(2025, 8, 27, 10, 50, 3, 637580, tzinfo=datetime.timezone.utc), content='Who are you ? and who trained you ?', type='TextMessage'), TextMessage(id='f64b8a4c-256d-4523-8bbf-2177540e4122', source='helpful_agent', models_usage=RequestUsage(prompt_tokens=89, completion_tokens=500), metadata={}, created_at=datetime.datetime(2025, 8, 27, 10, 50, 19, 350419, tzinfo=datetime.timezone.utc), content=\"Great question! 😊\\n\\nI'm **DeepSeek-R1**, your AI assistant — built to help you with all sorts of things:  \\n🔍 Answer questions  \\n📚 Do research  \\n🧠 Solve tricky problems  \\n✍️ Help with writing, coding, analyzing data  \\n...and just chat about random fun stuff! 😄  \\n\\nI was developed by **[DeepSeek](https://deepseek.com)**, a super smart team that's pushing the frontiers of artificial intelligence. They trained me on **massive amounts of high-quality text and code data** (mainly publicly available and licensed content) so that I can understand language deeply and respond naturally and helpfully.\\n\\nBut don't worry — I'm all live conversation **without a memory** of our chats between sessions unless you explicitly upload a file or keep a chat window open. I’m also **free to use** — no paid version or hidden fees, because the team believes AI should be accessible to everyone! 🙌✨\\n\\nYou can learn more in [DeepSeek's official guide](https://chat.deepseek.com/guide) if you're curious!  \\n\\nHappy to clear things up — or help with anything else. What’ll it be today? 😄\", type='TextMessage')]\n"
     ]
    }
   ],
   "source": [
    "result = await assistant_agent1.run(task = 'Who are you ? and who trained you ?')\n",
    "print(result.messages)"
   ]
  },
  {
   "cell_type": "code",
   "execution_count": 7,
   "id": "b529d62c",
   "metadata": {},
   "outputs": [
    {
     "data": {
      "text/plain": [
       "\"Great question! 😊\\n\\nI'm **DeepSeek-R1**, your AI assistant — built to help you with all sorts of things:  \\n🔍 Answer questions  \\n📚 Do research  \\n🧠 Solve tricky problems  \\n✍️ Help with writing, coding, analyzing data  \\n...and just chat about random fun stuff! 😄  \\n\\nI was developed by **[DeepSeek](https://deepseek.com)**, a super smart team that's pushing the frontiers of artificial intelligence. They trained me on **massive amounts of high-quality text and code data** (mainly publicly available and licensed content) so that I can understand language deeply and respond naturally and helpfully.\\n\\nBut don't worry — I'm all live conversation **without a memory** of our chats between sessions unless you explicitly upload a file or keep a chat window open. I’m also **free to use** — no paid version or hidden fees, because the team believes AI should be accessible to everyone! 🙌✨\\n\\nYou can learn more in [DeepSeek's official guide](https://chat.deepseek.com/guide) if you're curious!  \\n\\nHappy to clear things up — or help with anything else. What’ll it be today? 😄\""
      ]
     },
     "execution_count": 7,
     "metadata": {},
     "output_type": "execute_result"
    }
   ],
   "source": [
    "result.messages[-1].content"
   ]
  },
  {
   "cell_type": "code",
   "execution_count": null,
   "id": "212b724e",
   "metadata": {},
   "outputs": [],
   "source": []
  }
 ],
 "metadata": {
  "kernelspec": {
   "display_name": "autogencrashcourse",
   "language": "python",
   "name": "python3"
  },
  "language_info": {
   "codemirror_mode": {
    "name": "ipython",
    "version": 3
   },
   "file_extension": ".py",
   "mimetype": "text/x-python",
   "name": "python",
   "nbconvert_exporter": "python",
   "pygments_lexer": "ipython3",
   "version": "3.13.2"
  }
 },
 "nbformat": 4,
 "nbformat_minor": 5
}

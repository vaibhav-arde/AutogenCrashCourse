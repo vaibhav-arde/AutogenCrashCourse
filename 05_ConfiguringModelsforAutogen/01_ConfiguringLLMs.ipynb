{
 "cells": [
  {
   "cell_type": "markdown",
   "metadata": {},
   "source": [
    "# Configuring LLMs in AutoGen v0.4+\n",
    "Starting with OpenAI’s GPT-4.  "
   ]
  },
  {
   "cell_type": "markdown",
   "metadata": {},
   "source": [
    "https://microsoft.github.io/autogen/stable/user-guide/agentchat-user-guide/tutorial/models.html"
   ]
  },
  {
   "cell_type": "code",
   "execution_count": null,
   "metadata": {},
   "outputs": [],
   "source": [
    "# Fill the Chat GPT / OpenAI code here\n",
    "from autogen_agentchat.agents import AssistantAgent\n",
    "from autogen_ext.models.openai import OpenAIChatCompletionClient\n",
    "from autogen_agentchat.messages import TextMessage\n",
    "from dotenv import load_dotenv\n",
    "import os\n",
    "\n",
    "load_dotenv()\n",
    "api_key = os.getenv('OPENAI_API_KEY')\n",
    "model_client = OpenAIChatCompletionClient(model='gpt-4o', api_key=api_key)"
   ]
  },
  {
   "cell_type": "markdown",
   "metadata": {},
   "source": [
    "## Gemini"
   ]
  },
  {
   "cell_type": "code",
   "execution_count": 1,
   "metadata": {},
   "outputs": [],
   "source": [
    "from autogen_agentchat.agents import AssistantAgent\n",
    "from autogen_ext.models.openai import OpenAIChatCompletionClient\n",
    "from dotenv import load_dotenv\n",
    "import os\n",
    "\n",
    "load_dotenv()\n",
    "api_key = os.getenv('GEMINI_API_KEY')"
   ]
  },
  {
   "cell_type": "code",
   "execution_count": 2,
   "metadata": {},
   "outputs": [
    {
     "name": "stdout",
     "output_type": "stream",
     "text": [
      "I am a large language model, trained by Google.\n",
      "\n"
     ]
    }
   ],
   "source": [
    "from autogen_core.models import UserMessage\n",
    "from autogen_ext.models.openai import OpenAIChatCompletionClient\n",
    "\n",
    "model_client = OpenAIChatCompletionClient(\n",
    "    model=\"gemini-1.5-flash-8b\",\n",
    "    api_key=api_key,\n",
    ")\n",
    "\n",
    "response = await model_client.create([UserMessage(content=\"Who are you?\", source=\"user\")])\n",
    "print(response.content)\n"
   ]
  },
  {
   "cell_type": "markdown",
   "metadata": {},
   "source": [
    "## Ollama  "
   ]
  },
  {
   "cell_type": "code",
   "execution_count": 3,
   "metadata": {},
   "outputs": [
    {
     "name": "stdout",
     "output_type": "stream",
     "text": [
      "finish_reason='stop' content='The capital of France is Paris.' usage=RequestUsage(prompt_tokens=32, completion_tokens=8) cached=False logprobs=None thought=None\n"
     ]
    }
   ],
   "source": [
    "from autogen_core.models import UserMessage\n",
    "from autogen_ext.models.ollama import OllamaChatCompletionClient\n",
    "\n",
    "# Assuming your Ollama server is running locally on port 11434.\n",
    "ollama_model_client = OllamaChatCompletionClient(model=\"llama3.2\")\n",
    "\n",
    "response = await ollama_model_client.create([UserMessage(content=\"What is the capital of France?\", source=\"user\")])\n",
    "print(response)\n",
    "await ollama_model_client.close()\n"
   ]
  },
  {
   "cell_type": "markdown",
   "metadata": {},
   "source": [
    "finish_reason='stop' content='The capital of France is Paris.' usage=RequestUsage(prompt_tokens=32, completion_tokens=8) cached=False logprobs=None thought=None"
   ]
  },
  {
   "cell_type": "code",
   "execution_count": 4,
   "metadata": {},
   "outputs": [],
   "source": [
    "from autogen_agentchat.agents import AssistantAgent\n",
    "\n",
    "agent = AssistantAgent(\n",
    "    name='assistant',\n",
    "    model_client=ollama_model_client,\n",
    "    system_message='You are a helpful assistant',\n",
    ")"
   ]
  },
  {
   "cell_type": "code",
   "execution_count": 5,
   "metadata": {},
   "outputs": [
    {
     "name": "stdout",
     "output_type": "stream",
     "text": [
      "Labrador Retriever!\n",
      "\n",
      "The Labrador Retriever is a popular breed of dog known for its friendly, outgoing, and loyal nature. Here's some interesting information about this wonderful breed:\n",
      "\n",
      "**Origin**\n",
      "\n",
      "The Labrador Retriever was originally bred in the province of Newfoundland and Labrador, Canada, in the late 18th century to assist fishermen with their nets. The breed was developed by crossing local dogs with other breeds such as the St. John's Water Dog, the Pointer, and the Setter.\n",
      "\n",
      "**Physical Characteristics**\n",
      "\n",
      "Labrador Retrievers are a medium to large breed, with males weighing between 65-80 pounds (29-36 kg) and standing 22.5-24.5 inches (57-62 cm) tall at the shoulder. Females weigh between 55-70 pounds (25-32 kg) and stand 21.5-23.5 inches (55-60 cm) tall.\n",
      "\n",
      "They have a short, dense coat that comes in three colors: black, yellow, and chocolate.\n",
      "\n",
      "**Personality**\n",
      "\n",
      "Labrador Retrievers are known for their friendly, outgoing personalities. They are highly social dogs that thrive on human interaction and attention. They are excellent family pets, as they are patient, gentle, and loving with children.\n",
      "\n",
      "**Intelligence**\n",
      "\n",
      "Labrador Retrievers are one of the most intelligent breeds of dog, ranking 7th in Stanley Coren's book \"The Intelligence of Dogs\". They are highly trainable and easily learn commands and tasks.\n",
      "\n",
      "**Health**\n",
      "\n",
      "Unfortunately, Labrador Retrievers are prone to certain health issues, including:\n",
      "\n",
      "* Hip dysplasia\n",
      "* Elbow dysplasia\n",
      "* Obesity\n",
      "* Eye problems (e.g. cataracts, progressive retinal atrophy)\n",
      "* Allergies\n",
      "\n",
      "**Grooming**\n",
      "\n",
      "Labrador Retrievers have a short, dense coat that requires minimal grooming. They need to be brushed 1-2 times a week to remove loose hair and distribute skin oils.\n",
      "\n",
      "**Exercise**\n",
      "\n",
      "Labrador Retrievers are an energetic breed that requires regular exercise to stay happy and healthy. They need at least 30 minutes of physical activity per day, which can include walks, runs, and playtime in the yard or park.\n",
      "\n",
      "**Fun Facts**\n",
      "\n",
      "* The Labrador Retriever is one of the most popular breeds in the world, with over 1 million dogs registered annually.\n",
      "* Labradors are natural swimmers and love to play in water.\n",
      "* They have a unique nose print, just like humans have fingerprints!\n",
      "\n",
      "Overall, Labrador Retrievers make wonderful companions for active families or individuals who want a loyal and loving pet.\n"
     ]
    }
   ],
   "source": [
    "result = await agent.run(task='Find information about Labrador Retriever')\n",
    "print(result.messages[-1].content)"
   ]
  },
  {
   "cell_type": "code",
   "execution_count": null,
   "metadata": {},
   "outputs": [],
   "source": []
  }
 ],
 "metadata": {
  "kernelspec": {
   "display_name": "autogencrashcourse",
   "language": "python",
   "name": "python3"
  },
  "language_info": {
   "codemirror_mode": {
    "name": "ipython",
    "version": 3
   },
   "file_extension": ".py",
   "mimetype": "text/x-python",
   "name": "python",
   "nbconvert_exporter": "python",
   "pygments_lexer": "ipython3",
   "version": "3.13.2"
  }
 },
 "nbformat": 4,
 "nbformat_minor": 2
}

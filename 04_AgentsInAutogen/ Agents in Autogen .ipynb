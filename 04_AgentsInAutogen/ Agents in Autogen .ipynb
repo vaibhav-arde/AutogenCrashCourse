{
 "cells": [
  {
   "cell_type": "markdown",
   "metadata": {},
   "source": [
    "# Agents in Autogen "
   ]
  },
  {
   "cell_type": "code",
   "execution_count": 5,
   "metadata": {},
   "outputs": [],
   "source": [
    "from autogen_agentchat.agents import AssistantAgent\n",
    "from autogen_ext.models.openai import OpenAIChatCompletionClient\n",
    "from autogen_agentchat.messages import TextMessage\n",
    "from dotenv import load_dotenv\n",
    "import os\n",
    "\n",
    "load_dotenv()\n",
    "api_key = os.getenv('GEMINI_API_KEY')\n",
    "model_client = OpenAIChatCompletionClient(model='gemini-1.5-flash-8b', api_key=api_key)"
   ]
  },
  {
   "cell_type": "code",
   "execution_count": 6,
   "metadata": {},
   "outputs": [],
   "source": [
    "async def web_search(query: str) -> str:\n",
    "    \"\"\"Find information on the web\"\"\"\n",
    "    return \"The Labrador Retriever or simply Labrador is a British breed of retriever gun dog. \""
   ]
  },
  {
   "cell_type": "code",
   "execution_count": 7,
   "metadata": {},
   "outputs": [],
   "source": [
    "agent = AssistantAgent(\n",
    "    name='assistant',\n",
    "    model_client=model_client,\n",
    "    tools=[web_search],\n",
    "    system_message='Use Tools to solve tasks',\n",
    "    description='An agent which uses tool to help solve task'\n",
    ")"
   ]
  },
  {
   "cell_type": "code",
   "execution_count": 8,
   "metadata": {},
   "outputs": [
    {
     "name": "stdout",
     "output_type": "stream",
     "text": [
      "The Labrador Retriever or simply Labrador is a British breed of retriever gun dog. \n"
     ]
    }
   ],
   "source": [
    "result = await agent.run(task='Find information about Labrador Retriever')\n",
    "print(result.messages[-1].content)"
   ]
  },
  {
   "cell_type": "code",
   "execution_count": 9,
   "metadata": {},
   "outputs": [
    {
     "data": {
      "text/plain": [
       "TaskResult(messages=[TextMessage(id='f636a702-8c33-4474-8b23-47778785044e', source='user', models_usage=None, metadata={}, created_at=datetime.datetime(2025, 8, 27, 10, 9, 44, 624626, tzinfo=datetime.timezone.utc), content='Find information about Labrador Retriever', type='TextMessage'), ToolCallRequestEvent(id='fb29f1d1-7f94-4653-9b05-55c0eddebe14', source='assistant', models_usage=RequestUsage(prompt_tokens=23, completion_tokens=7), metadata={}, created_at=datetime.datetime(2025, 8, 27, 10, 9, 45, 478715, tzinfo=datetime.timezone.utc), content=[FunctionCall(id='', arguments='{\"query\":\"Labrador Retriever\"}', name='web_search')], type='ToolCallRequestEvent'), ToolCallExecutionEvent(id='8829bab2-20b6-4b69-8f9f-a7357ba978f7', source='assistant', models_usage=None, metadata={}, created_at=datetime.datetime(2025, 8, 27, 10, 9, 45, 479559, tzinfo=datetime.timezone.utc), content=[FunctionExecutionResult(content='The Labrador Retriever or simply Labrador is a British breed of retriever gun dog. ', name='web_search', call_id='', is_error=False)], type='ToolCallExecutionEvent'), ToolCallSummaryMessage(id='82cd15ff-b394-4e50-82df-ec7434ed71ba', source='assistant', models_usage=None, metadata={}, created_at=datetime.datetime(2025, 8, 27, 10, 9, 45, 479583, tzinfo=datetime.timezone.utc), content='The Labrador Retriever or simply Labrador is a British breed of retriever gun dog. ', type='ToolCallSummaryMessage', tool_calls=[FunctionCall(id='', arguments='{\"query\":\"Labrador Retriever\"}', name='web_search')], results=[FunctionExecutionResult(content='The Labrador Retriever or simply Labrador is a British breed of retriever gun dog. ', name='web_search', call_id='', is_error=False)])], stop_reason=None)"
      ]
     },
     "execution_count": 9,
     "metadata": {},
     "output_type": "execute_result"
    }
   ],
   "source": [
    "result"
   ]
  },
  {
   "cell_type": "markdown",
   "metadata": {},
   "source": [
    "TaskResult(messages=\n",
    "[\n",
    "    1. TextMessage(source='user', models_usage=None, metadata={}, created_at=datetime.datetime(2025, 6, 19, 16, 0, 26, 684759, tzinfo=datetime.timezone.utc), content='Find information about Labrador Retriever', type='TextMessage')\n",
    "    \n",
    "    2. ToolCallRequestEvent(source='assistant', models_usage=RequestUsage(prompt_tokens=61, completion_tokens=17), metadata={}, created_at=datetime.datetime(2025, 6, 19, 16, 0, 27, 992815, tzinfo=datetime.timezone.utc), content=[FunctionCall(id='call_ipWxcrV4tXyUsapUhqpz6NyO', arguments='{\"query\":\"Labrador Retriever\"}', name='web_search')], type='ToolCallRequestEvent'), \n",
    "    \n",
    "    3. ToolCallExecutionEvent(source='assistant', models_usage=None, metadata={}, created_at=datetime.datetime(2025, 6, 19, 16, 0, 27, 993741, tzinfo=datetime.timezone.utc), content=[FunctionExecutionResult(content='The Labrador Retriever or simply Labrador is a British breed of retriever gun dog. ', name='web_search', call_id='call_ipWxcrV4tXyUsapUhqpz6NyO', is_error=False)], type='ToolCallExecutionEvent'), \n",
    "    \n",
    "    4. ToolCallSummaryMessage(source='assistant', models_usage=None, metadata={}, created_at=datetime.datetime(2025, 6, 19, 16, 0, 27, 993775, tzinfo=datetime.timezone.utc), content='The Labrador Retriever or simply Labrador is a British breed of retriever gun dog. ', type='ToolCallSummaryMessage', tool_calls=[FunctionCall(id='call_ipWxcrV4tXyUsapUhqpz6NyO', arguments='{\"query\":\"Labrador Retriever\"}', name='web_search')], \n",
    "    \n",
    "    results=[FunctionExecutionResult(content='The Labrador Retriever or simply Labrador is a British breed of retriever gun dog. ', name='web_search', call_id='call_ipWxcrV4tXyUsapUhqpz6NyO', is_error=False)])], stop_reason=None)"
   ]
  },
  {
   "cell_type": "markdown",
   "metadata": {},
   "source": [
    "### On_message() method"
   ]
  },
  {
   "cell_type": "code",
   "execution_count": 10,
   "metadata": {},
   "outputs": [
    {
     "name": "stdout",
     "output_type": "stream",
     "text": [
      "[ToolCallRequestEvent(id='95a73f0b-61d8-4dc6-933b-4635db92bca6', source='assistant', models_usage=RequestUsage(prompt_tokens=55, completion_tokens=7), metadata={}, created_at=datetime.datetime(2025, 8, 27, 10, 13, 12, 900955, tzinfo=datetime.timezone.utc), content=[FunctionCall(id='', arguments='{\"query\":\"Labrador Retriever\"}', name='web_search')], type='ToolCallRequestEvent'), ToolCallExecutionEvent(id='cb0db424-2e31-4685-87e8-fbdc384b800f', source='assistant', models_usage=None, metadata={}, created_at=datetime.datetime(2025, 8, 27, 10, 13, 12, 901636, tzinfo=datetime.timezone.utc), content=[FunctionExecutionResult(content='The Labrador Retriever or simply Labrador is a British breed of retriever gun dog. ', name='web_search', call_id='', is_error=False)], type='ToolCallExecutionEvent')]\n",
      "\n",
      "\n",
      "\n",
      "\n",
      "\n",
      "id='3b27a124-d84a-4737-a0a9-197c4c77985e' source='assistant' models_usage=None metadata={} created_at=datetime.datetime(2025, 8, 27, 10, 13, 12, 901682, tzinfo=datetime.timezone.utc) content='The Labrador Retriever or simply Labrador is a British breed of retriever gun dog. ' type='ToolCallSummaryMessage' tool_calls=[FunctionCall(id='', arguments='{\"query\":\"Labrador Retriever\"}', name='web_search')] results=[FunctionExecutionResult(content='The Labrador Retriever or simply Labrador is a British breed of retriever gun dog. ', name='web_search', call_id='', is_error=False)]\n"
     ]
    }
   ],
   "source": [
    "from autogen_core import CancellationToken\n",
    "\n",
    "async def assistant_run()-> None:\n",
    "    response = await agent.on_messages(\n",
    "        messages= [TextMessage(content='Find information about Labrador Retriever',source='User')],\n",
    "        cancellation_token=CancellationToken()\n",
    "    )\n",
    "\n",
    "    print(response.inner_messages)\n",
    "    print('\\n\\n\\n\\n')\n",
    "    print(response.chat_message)\n",
    "\n",
    "await assistant_run()"
   ]
  },
  {
   "cell_type": "markdown",
   "metadata": {},
   "source": [
    "[ToolCallRequestEvent(id='95a73f0b-61d8-4dc6-933b-4635db92bca6', source='assistant', models_usage=RequestUsage(prompt_tokens=55, completion_tokens=7), metadata={}, created_at=datetime.datetime(2025, 8, 27, 10, 13, 12, 900955, tzinfo=datetime.timezone.utc), content=[FunctionCall(id='', arguments='{\"query\":\"Labrador Retriever\"}', name='web_search')], type='ToolCallRequestEvent'), ToolCallExecutionEvent(id='cb0db424-2e31-4685-87e8-fbdc384b800f', source='assistant', models_usage=None, metadata={}, created_at=datetime.datetime(2025, 8, 27, 10, 13, 12, 901636, tzinfo=datetime.timezone.utc), content=[FunctionExecutionResult(content='The Labrador Retriever or simply Labrador is a British breed of retriever gun dog. ', name='web_search', call_id='', is_error=False)], type='ToolCallExecutionEvent')]\n",
    "\n",
    "\n",
    "\n",
    "\n",
    "\n",
    "id='3b27a124-d84a-4737-a0a9-197c4c77985e' source='assistant' models_usage=None metadata={} created_at=datetime.datetime(2025, 8, 27, 10, 13, 12, 901682, tzinfo=datetime.timezone.utc) content='The Labrador Retriever or simply Labrador is a British breed of retriever gun dog. ' type='ToolCallSummaryMessage' tool_calls=[FunctionCall(id='', arguments='{\"query\":\"Labrador Retriever\"}', name='web_search')] results=[FunctionExecutionResult(content='The Labrador Retriever or simply Labrador is a British breed of retriever gun dog. ', name='web_search', call_id='', is_error=False)]"
   ]
  },
  {
   "cell_type": "markdown",
   "metadata": {},
   "source": [
    "source='assistant' models_usage=None metadata={} created_at=datetime.datetime(2025, 6, 19, 16, 3, 51, 196163, tzinfo=datetime.timezone.utc) content='The Labrador Retriever or simply Labrador is a British breed of retriever gun dog. ' type='ToolCallSummaryMessage' tool_calls=[FunctionCall(id='call_WYA4GSiwmxw7lOBDMmf5jHqE', arguments='{\"query\":\"Labrador Retriever breed information\"}', name='web_search')] results=[FunctionExecutionResult(content='The Labrador Retriever or simply Labrador is a British breed of retriever gun dog. ', name='web_search', call_id='call_WYA4GSiwmxw7lOBDMmf5jHqE', is_error=False)]"
   ]
  },
  {
   "cell_type": "markdown",
   "metadata": {},
   "source": [
    "### Streaming Messages\n",
    "\n",
    "#### on_messages_stream()"
   ]
  },
  {
   "cell_type": "code",
   "execution_count": 11,
   "metadata": {},
   "outputs": [
    {
     "name": "stdout",
     "output_type": "stream",
     "text": [
      "---------- ToolCallRequestEvent (assistant) ----------\n",
      "[FunctionCall(id='', arguments='{\"query\":\"Labrador Retriever\"}', name='web_search')]\n",
      "[Prompt tokens: 90, Completion tokens: 7]\n",
      "---------- ToolCallExecutionEvent (assistant) ----------\n",
      "[FunctionExecutionResult(content='The Labrador Retriever or simply Labrador is a British breed of retriever gun dog. ', name='web_search', call_id='', is_error=False)]\n",
      "---------- assistant ----------\n",
      "The Labrador Retriever or simply Labrador is a British breed of retriever gun dog. \n",
      "---------- Summary ----------\n",
      "Number of inner messages: 2\n",
      "Total prompt tokens: 90\n",
      "Total completion tokens: 7\n",
      "Duration: 0.82 seconds\n"
     ]
    }
   ],
   "source": [
    "from autogen_agentchat.ui import Console\n",
    "\n",
    "\n",
    "async def assistant_run_stream() -> None:\n",
    "\n",
    "    await Console(\n",
    "        agent.on_messages_stream(\n",
    "        messages= [TextMessage(content='Find information about Labrador Retriever via the tool',source='User')],\n",
    "        cancellation_token=CancellationToken()\n",
    "    ),\n",
    "    output_stats=True # Enable stats Printing\n",
    "    )\n",
    "\n",
    "\n",
    "await assistant_run_stream()"
   ]
  },
  {
   "cell_type": "code",
   "execution_count": 12,
   "metadata": {},
   "outputs": [
    {
     "name": "stdout",
     "output_type": "stream",
     "text": [
      "---------- assistant ----------\n",
      "Your last question was: \"Find information about Labrador Retriever via the tool\".\n",
      "\n",
      "[Prompt tokens: 125, Completion tokens: 16]\n",
      "---------- Summary ----------\n",
      "Number of inner messages: 0\n",
      "Total prompt tokens: 125\n",
      "Total completion tokens: 16\n",
      "Duration: 1.24 seconds\n"
     ]
    }
   ],
   "source": [
    "from autogen_agentchat.ui import Console\n",
    "\n",
    "\n",
    "async def assistant_run_stream() -> None:\n",
    "\n",
    "    await Console(\n",
    "        agent.on_messages_stream(\n",
    "        messages= [TextMessage(content='What was the last question I asked ?',source='User')],\n",
    "        cancellation_token=CancellationToken()\n",
    "    ),\n",
    "    output_stats=True # Enable stats Printing\n",
    "    )\n",
    "\n",
    "\n",
    "await assistant_run_stream()"
   ]
  },
  {
   "cell_type": "code",
   "execution_count": null,
   "metadata": {},
   "outputs": [],
   "source": []
  }
 ],
 "metadata": {
  "kernelspec": {
   "display_name": "autogencrashcourse",
   "language": "python",
   "name": "python3"
  },
  "language_info": {
   "codemirror_mode": {
    "name": "ipython",
    "version": 3
   },
   "file_extension": ".py",
   "mimetype": "text/x-python",
   "name": "python",
   "nbconvert_exporter": "python",
   "pygments_lexer": "ipython3",
   "version": "3.13.2"
  }
 },
 "nbformat": 4,
 "nbformat_minor": 2
}

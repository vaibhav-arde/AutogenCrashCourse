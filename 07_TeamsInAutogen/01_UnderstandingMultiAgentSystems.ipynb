{
 "cells": [
  {
   "cell_type": "markdown",
   "id": "35d48bdc",
   "metadata": {},
   "source": [
    "## Multi Agent-Systems\n"
   ]
  },
  {
   "cell_type": "markdown",
   "id": "6123894b",
   "metadata": {},
   "source": [
    " A team is a group of agents that work together to achieve a common goal"
   ]
  },
  {
   "cell_type": "code",
   "execution_count": 1,
   "id": "47eaa3db",
   "metadata": {},
   "outputs": [],
   "source": [
    "import asyncio\n",
    "from autogen_ext.models.openai import OpenAIChatCompletionClient\n",
    "from dotenv import load_dotenv\n",
    "import os\n",
    "\n",
    "load_dotenv()\n",
    "api_key = os.getenv('GEMINI_API_KEY')\n",
    "model_client = OpenAIChatCompletionClient(model='gemini-1.5-flash-8b', api_key=api_key)\n",
    "# model_client_2 = "
   ]
  },
  {
   "cell_type": "markdown",
   "id": "7cdaec8a",
   "metadata": {},
   "source": [
    "# Single Agent Approach\n",
    "\n",
    "A single agent is going to create a short story for us"
   ]
  },
  {
   "cell_type": "code",
   "execution_count": 3,
   "id": "90b874ec",
   "metadata": {},
   "outputs": [],
   "source": [
    "from autogen_agentchat.agents import (AssistantAgent)\n",
    "\n",
    "story_agent = AssistantAgent(\n",
    "    name = 'story_agent',\n",
    "    model_client=model_client,\n",
    "    system_message='You are a creating writer. Generate a short story about a brave knight and a dragon.'\n",
    ")"
   ]
  },
  {
   "cell_type": "code",
   "execution_count": 4,
   "id": "fadbb7bf",
   "metadata": {},
   "outputs": [
    {
     "name": "stdout",
     "output_type": "stream",
     "text": [
      "Sir Gideon, famed for his sword, faced Ignis, the fearsome dragon.  Flames danced, but Gideon's courage burned brighter.  A single, well-aimed strike, and Ignis fell silent, his scales shimmering with extinguished fire.\n",
      "\n"
     ]
    }
   ],
   "source": [
    "from autogen_agentchat.messages import TextMessage\n",
    "\n",
    "async def test_simple_agent():\n",
    "    task = TextMessage(\n",
    "        content='Write a short story about a brave knight and a dragon. Keep it up to 50 words',\n",
    "        source='user'\n",
    "    )\n",
    "    result = await story_agent.run(task=task)\n",
    "    print(result.messages[-1].content)\n",
    "\n",
    "await test_simple_agent()"
   ]
  },
  {
   "cell_type": "markdown",
   "id": "1c17beaa",
   "metadata": {},
   "source": [
    "In a land of whispers, Sir Elric faced the feared dragon Zephyr atop Mistpeak. Rather than battle, they spoke, discovering shared loneliness. Zephyr guarded the kingdom thereafter, tales of violence dissolved into ones of friendship, where fire and steel forged a bond stronger than any blade."
   ]
  },
  {
   "cell_type": "markdown",
   "id": "235151ab",
   "metadata": {},
   "source": [
    "# Multi Agent Team Approach\n",
    "\n",
    "We will be using 3 agents to now write the story, each with its own work and mastery"
   ]
  },
  {
   "cell_type": "code",
   "execution_count": 5,
   "id": "12a01d27",
   "metadata": {},
   "outputs": [],
   "source": [
    "plot_agent = AssistantAgent(\n",
    "    name = 'plot_writer',\n",
    "    model_client=model_client,\n",
    "    system_message=\"You create engaging plots for stories. Focus on the Pokemon's journey\"\n",
    ")\n",
    "\n",
    "character_agent = AssistantAgent(\n",
    "    name = 'character_writer',\n",
    "    model_client=model_client,\n",
    "    system_message=\"You develop characters. Describe the pokemon and the villian in detail, including their motivations and backgrounds.\"\n",
    ")\n",
    "\n",
    "ending_agent = AssistantAgent(\n",
    "    name = 'ending_writer',\n",
    "    model_client=model_client,\n",
    "    system_message=\"You wrute engaging endings. conclude the story with a twist.\"\n",
    ")\n"
   ]
  },
  {
   "cell_type": "markdown",
   "id": "193ff520",
   "metadata": {},
   "source": [
    "RoundRobinGroupChat is a simple yet effective team configuration where all agents share the same context and take turns responding in a round-robin fashion. Each agent, during its turn, broadcasts its response to all other agents, ensuring that the entire team maintains a consistent context."
   ]
  },
  {
   "cell_type": "code",
   "execution_count": 6,
   "id": "1d07b002",
   "metadata": {},
   "outputs": [
    {
     "data": {
      "text/plain": [
       "'team'"
      ]
     },
     "execution_count": 6,
     "metadata": {},
     "output_type": "execute_result"
    }
   ],
   "source": [
    "from autogen_agentchat.teams import RoundRobinGroupChat\n",
    "\n",
    "team = RoundRobinGroupChat(\n",
    "    participants= [plot_agent, character_agent, ending_agent],\n",
    "    max_turns=6\n",
    ")\n",
    "team.component_type"
   ]
  },
  {
   "cell_type": "code",
   "execution_count": 7,
   "id": "e29888a9",
   "metadata": {},
   "outputs": [
    {
     "name": "stdout",
     "output_type": "stream",
     "text": [
      "user : Write a short story a brave boy and his Pokemon. Keep it up to 50 words\n",
      "plot_writer : Finn, a young trainer, faced a daunting trial: a towering mountain, home to a legendary Pokémon.  With his loyal Pikachu by his side, Finn scaled the treacherous peaks, battling fierce foes and enduring freezing winds.  Triumph awaited him at the summit.\n",
      "\n",
      "character_writer : Finn, a young trainer, faced a daunting trial: a towering mountain, home to a legendary Pokémon.  With his loyal Pikachu by his side, Finn scaled the treacherous peaks, battling fierce foes and enduring freezing winds.  Triumph awaited him at the summit.\n",
      "\n",
      "ending_writer : Finn, a young trainer, faced a daunting trial: a towering mountain, home to a legendary Pokémon.  With his loyal Pikachu by his side, Finn scaled the treacherous peaks, battling fierce foes and enduring freezing winds.  Triumph awaited him at the summit... a colossal, ancient Pokémon, eyes blazing emerald.  He reached out, Pikachu nudging his hand.  But the Pokémon wasn't hostile.  It was... a statue.  Carved into the mountain itself.  The legend was a myth.  The mountain, the ultimate test, was all a facade.\n",
      "\n",
      "plot_writer : Finn, a young trainer, faced a daunting trial: a towering mountain, home to a legendary Pokémon.  With his loyal Pikachu by his side, Finn scaled the treacherous peaks, battling fierce foes and enduring freezing winds.  Triumph awaited him at the summit... a colossal, ancient Pokémon, eyes blazing emerald.  He reached out, Pikachu nudging his hand.  But the Pokémon wasn't hostile.  It was... a statue.  Carved into the mountain itself.  The legend was a myth.  The mountain, the ultimate test, was all a facade.  Disappointment stung, but Finn, his Pikachu, and their bond were unbreakable—their journey continued, ready for the next challenge, whatever it might be.\n",
      "\n",
      "character_writer : Okay, I can elaborate on the characters and motivations for a more developed story.  Please tell me if you'd like a more detailed villain or a more detailed description of the Pokémon (or both!).\n",
      "\n",
      "For example, do you want a backstory on Finn and Pikachu, or a villain who opposes Finn's journey?  What kind of Pokémon would you like to describe in detail?\n",
      "\n",
      "ending_writer : I'd like a more detailed description of the Pokémon, and a backstory on Finn and Pikachu.  Let's focus on making their bond and the challenges of the journey more impactful.  A villain would be nice, but focusing on the Pokémon's majesty and the emotional core of Finn and Pikachu's relationship first will make the twist even more powerful.\n",
      "\n"
     ]
    }
   ],
   "source": [
    "\n",
    "async def test_team():\n",
    "    task = TextMessage(\n",
    "        content='Write a short story a brave boy and his Pokemon. Keep it up to 50 words',\n",
    "        source='user'\n",
    "    )\n",
    "\n",
    "    result = await team.run(task=task)\n",
    "    for each_agent_message in result.messages:\n",
    "        print(f'{each_agent_message.source} : {each_agent_message.content}')\n",
    "        \n",
    "\n",
    "await test_team()"
   ]
  },
  {
   "cell_type": "markdown",
   "id": "edacc58f",
   "metadata": {},
   "source": [
    "user : Write a short story a brave boy and his Pokemon. Keep it up to 50 words\n",
    "\n",
    "\n",
    "\n",
    "1. plot_writer : In Lumina Town, young Kai and his fiery Charmander ventured into the Whispering Woods. The pair faced the ominous Shadow Grove, where flickering shadows danced. Together, they unleashed a dazzling Flamethrower, dispelling darkness. United by courage and friendship, they emerged victorious, ready for endless adventures ahead.\n",
    "\n",
    "\n",
    "\n",
    "2. character_writer : In the vibrant world of Lumina Town, Kai's adventurous spirit was matched only by his fiery companion, Charmander. \n",
    "\n",
    "**Charmander**: A tiny lizard Pokémon with a flame at the tip of its tail, Charmander is spirited and fiercely loyal. This Charmander bears a unique streak of blue in its flame, symbolizing its unusual potential and heritage. Having grown up in the bustling markets of Lumina Town, it's accustomed to cheer and challenges alike. Charming but determined, Charmander’s motivation is driven by a thirst for growth. It yearns to evolve, not just physically but in strength and wisdom, to protect those it cares about.\n",
    "\n",
    "Navigating through the lively world, their latest trial lay in the daunting Whispering Woods. At the heart of the woods lurked the villainous Master Umbra.\n",
    "\n",
    "**Master Umbra**: A shadowy figure cloaked in constant twilight, Umbra was once known as Ardor, a revered Pokémon researcher committed to studying light’s impact on Pokémon evolution. Betrayed and ridiculed by peers for his radical theories, he turned to darkness, embracing the shadows. Master Umbra commands a legion of shadow Pokémon, thriving in dimness he manipulates. His ultimate goal: harnessing darkness to eclipse every region, showing the world power lies not in light, but in the void it resists. Umbra's cunning is overshadowed only by his understanding of light and shadow, but deep down, he desires recognition and validation.\n",
    "\n",
    "Face-to-face with Master Umbra in the intimidating Shadow Grove, Kai and Charmander find themselves tested. Shadows swirl, threatening to overwhelm, but fueled by bravery and the symbolic blue flame, Charmander releases a scorching Flamethrower. Light pierces darkness, driving back Umbra’s forces.\n",
    "\n",
    "Unfazed, Umbra vanishes with a vow to reclaim dominion, leaving Kai and Charmander that much closer to their dream: to stand as protectors and champions of balance, ensuring darkness never eclipses the light. \n",
    "\n",
    "\n",
    "\n",
    "3. ending_writer : As Kai and Charmander celebrated their victory over Master Umbra, the burnt shadows began to swirl and reform, revealing a hidden message in the grove's ashes. It read: \"Look deeper, young one.\" Intrigued, Kai followed the cryptic hint, discovering an ancient stone tablet with the truth that Umbra, once known as Ardor, was his estranged grandfather. The twist of fate was a reminder that sometimes, the shadows we face are closer than they appear, casting new light on his path ahead."
   ]
  },
  {
   "cell_type": "markdown",
   "id": "2d0cd8b2",
   "metadata": {},
   "source": [
    "# Comparision Table"
   ]
  },
  {
   "cell_type": "markdown",
   "id": "d721cc13",
   "metadata": {},
   "source": [
    "## Single-Agent vs. Multi-Agent Comparison\n",
    "\n",
    "| Aspect             | Single Agent                | Multi-Agent Team              |\n",
    "|--------------------|-----------------------------|-------------------------------|\n",
    "| **Creativity**     | Limited to one viewpoint    | Diverse ideas from each agent |\n",
    "| **Depth**          | Basic story elements        | Detailed plot, characters, ending |\n",
    "| **Flexibility**    | Stuck to one style          | Adaptable with specialized roles |\n",
    "| **Setup Effort**   | Simple, one agent           | More agents, team setup       |"
   ]
  },
  {
   "cell_type": "code",
   "execution_count": null,
   "id": "ee0f3560",
   "metadata": {},
   "outputs": [],
   "source": []
  },
  {
   "cell_type": "code",
   "execution_count": 8,
   "id": "1500f66a",
   "metadata": {},
   "outputs": [
    {
     "name": "stdout",
     "output_type": "stream",
     "text": [
      "id='9bbb120d-bdde-43cc-8441-2a0e8c0da275' source='user' models_usage=None metadata={} created_at=datetime.datetime(2025, 8, 27, 12, 0, 35, 747962, tzinfo=datetime.timezone.utc) content='Write a short poem about the fall season.' type='TextMessage'\n",
      "id='a3ef287a-f899-45bc-93d7-c42ce2305b56' source='plot_writer' models_usage=RequestUsage(prompt_tokens=23, completion_tokens=66) metadata={} created_at=datetime.datetime(2025, 8, 27, 12, 0, 36, 691429, tzinfo=datetime.timezone.utc) content=\"Crimson leaves descend and swirl,\\nA gentle breeze, a whispered world.\\nGolden hues upon the ground,\\nAutumn's beauty, all around.\\nCrisp air nips at rosy cheeks,\\nNature's slumber, secrets speaks.\\nFrom vibrant green to fading gold,\\nStories whispered, tales untold.\\n\" type='TextMessage'\n",
      "id='f57fa1da-84dd-44b9-8a92-31bbe9997d16' source='character_writer' models_usage=RequestUsage(prompt_tokens=95, completion_tokens=34) metadata={} created_at=datetime.datetime(2025, 8, 27, 12, 0, 37, 813881, tzinfo=datetime.timezone.utc) content=\"That's a lovely poem!  It evokes the feeling of autumn perfectly.  Well done.\\n  \\nIs there anything else I can help you with?\\n\" type='TextMessage'\n",
      "id='fe29ccef-bdca-4b6f-b026-5a4b569f36d4' source='ending_writer' models_usage=RequestUsage(prompt_tokens=122, completion_tokens=25) metadata={} created_at=datetime.datetime(2025, 8, 27, 12, 0, 38, 732568, tzinfo=datetime.timezone.utc) content='Yes, please write a short story about a seemingly ordinary day at a local coffee shop, but with a surprising twist.\\n' type='TextMessage'\n",
      "id='aa2d3d88-ec52-4be3-8ead-35a45396b368' source='plot_writer' models_usage=RequestUsage(prompt_tokens=148, completion_tokens=439) metadata={} created_at=datetime.datetime(2025, 8, 27, 12, 0, 41, 562759, tzinfo=datetime.timezone.utc) content='The aroma of roasted beans, a comforting hum of conversation, and the rhythmic clinking of mugs filled the air in \"The Daily Grind.\"  It was a typical Tuesday morning.  Leo, a quiet observer with eyes the colour of a stormy sea, nursed his lukewarm latte, watching the regulars – the perpetually stressed-out student, the animated couple planning their weekend getaway, the elderly woman meticulously folding her napkin.  Everything seemed ordinary, predictable.\\n\\nHe was sketching the intricate latte art on a customer\\'s foam – a delicate spiral – when a flash of emerald green caught his eye.  A peculiar Pokémon, a Gible, was perched on a nearby table, its tiny claws gripping a half-eaten pastry.  It wasn\\'t just any Gible; it was unusually large for its age, its scales shimmering with an almost unnatural brilliance.\\n\\nLeo, despite his apprehension, felt a strange pull towards it. He approached cautiously, his heart hammering a frantic rhythm against his ribs.  The Gible, instead of reacting with hostility, simply stared at him with unnervingly intelligent emerald eyes.\\n\\nSuddenly, the café went dark, a momentary blackout that left the room plunged into inky blackness.  When the lights flickered back on, the Gible was gone.  The pastry remained, untouched.\\n\\nConfusion reigned for a moment.  The couple froze mid-conversation, the student slumped back into their chair, the elderly woman blinked slowly.  Leo, though unnerved, felt a peculiar sense of calm.  He looked around the room, searching for any trace of the Pokémon, but found nothing.\\n\\nThe next day, a local newspaper reported a strange incident involving an unusually large, luminous Gible spotted near the outskirts of town. The description was startlingly similar to the one he\\'d seen, down to the emerald scales.  Leo, though still troubled, felt a subtle spark of curiosity.  Perhaps, he mused, the ordinary Tuesday morning at The Daily Grind held a hidden narrative, a story only a few were meant to decipher.  The ordinary, he realised, was often brimming with the extraordinary, waiting to be unveiled.\\n' type='TextMessage'\n",
      "id='715d3a6e-4d83-4145-ba0c-ca1fe00dd0ae' source='character_writer' models_usage=RequestUsage(prompt_tokens=593, completion_tokens=47) metadata={} created_at=datetime.datetime(2025, 8, 27, 12, 0, 42, 367892, tzinfo=datetime.timezone.utc) content=\"That's a great short story!  It has a nice mystery element, and the contrast between the ordinary café scene and the unusual Pokémon is well-executed.  The ending leaves the reader wanting more.  Good job!\\n\" type='TextMessage'\n",
      "id='91d7cb71-cfac-4280-956d-2bd330531225' source='ending_writer' models_usage=RequestUsage(prompt_tokens=633, completion_tokens=23) metadata={} created_at=datetime.datetime(2025, 8, 27, 12, 0, 43, 534942, tzinfo=datetime.timezone.utc) content=\"Thank you! I'm glad you enjoyed it.  Is there anything else I can create for you?\\n\" type='TextMessage'\n",
      "Stop Reason: Maximum number of turns 6 reached.\n"
     ]
    }
   ],
   "source": [
    "from autogen_agentchat.base import TaskResult\n",
    "\n",
    "# When running inside a script, use a async main function and call it from `asyncio.run(...)`.\n",
    "await team.reset()  # Reset the team for a new task.\n",
    "async for message in team.run_stream(task=\"Write a short poem about the fall season.\"):  # type: ignore\n",
    "    if isinstance(message, TaskResult):\n",
    "        print(\"Stop Reason:\", message.stop_reason)\n",
    "    else:\n",
    "        print(message)"
   ]
  },
  {
   "cell_type": "code",
   "execution_count": 9,
   "id": "e48953d5",
   "metadata": {},
   "outputs": [],
   "source": [
    "from autogen_agentchat.teams import RoundRobinGroupChat\n",
    "\n",
    "team2 = RoundRobinGroupChat(\n",
    "    participants= [plot_agent],\n",
    "    max_turns=2\n",
    ")"
   ]
  },
  {
   "cell_type": "code",
   "execution_count": 10,
   "id": "4c6055e4",
   "metadata": {},
   "outputs": [
    {
     "name": "stdout",
     "output_type": "stream",
     "text": [
      "id='45a40f45-5bfa-43c2-bacf-be615b55667f' source='user' models_usage=None metadata={} created_at=datetime.datetime(2025, 8, 27, 12, 3, 1, 218598, tzinfo=datetime.timezone.utc) content='Write a short poem about the fall season.' type='TextMessage'\n",
      "id='7cc73ae5-9f74-46ce-82ff-ee7f07760873' source='plot_writer' models_usage=RequestUsage(prompt_tokens=23, completion_tokens=73) metadata={} created_at=datetime.datetime(2025, 8, 27, 12, 3, 2, 199248, tzinfo=datetime.timezone.utc) content=\"Crimson leaves descend and swirl,\\nA whispered breeze, a gentle furl.\\nSun dips low, a fiery kiss,\\nAutumn's beauty, a golden bliss.\\nCrisp air bites, a welcome chill,\\nNature's slumber, taking its fill.\\nFrom vibrant green to russet hue,\\nAutumn's magic, ever new.\\n\" type='TextMessage'\n",
      "id='c90c441f-2e71-451f-94cf-1eb24e4e93c2' source='plot_writer' models_usage=RequestUsage(prompt_tokens=96, completion_tokens=0) metadata={} created_at=datetime.datetime(2025, 8, 27, 12, 3, 3, 119415, tzinfo=datetime.timezone.utc) content='' type='TextMessage'\n",
      "Stop Reason: Maximum number of turns 2 reached.\n"
     ]
    }
   ],
   "source": [
    "from autogen_agentchat.base import TaskResult\n",
    "\n",
    "# When running inside a script, use a async main function and call it from `asyncio.run(...)`.\n",
    "await team2.reset()  # Reset the team for a new task.\n",
    "async for message in team2.run_stream(task=\"Write a short poem about the fall season.\"):  # type: ignore\n",
    "    if isinstance(message, TaskResult):\n",
    "        print(\"Stop Reason:\", message.stop_reason)\n",
    "    else:\n",
    "        print(message)"
   ]
  },
  {
   "cell_type": "code",
   "execution_count": 11,
   "id": "ca4115ae",
   "metadata": {},
   "outputs": [
    {
     "data": {
      "text/plain": [
       "TaskResult(messages=[TextMessage(id='45a40f45-5bfa-43c2-bacf-be615b55667f', source='user', models_usage=None, metadata={}, created_at=datetime.datetime(2025, 8, 27, 12, 3, 1, 218598, tzinfo=datetime.timezone.utc), content='Write a short poem about the fall season.', type='TextMessage'), TextMessage(id='7cc73ae5-9f74-46ce-82ff-ee7f07760873', source='plot_writer', models_usage=RequestUsage(prompt_tokens=23, completion_tokens=73), metadata={}, created_at=datetime.datetime(2025, 8, 27, 12, 3, 2, 199248, tzinfo=datetime.timezone.utc), content=\"Crimson leaves descend and swirl,\\nA whispered breeze, a gentle furl.\\nSun dips low, a fiery kiss,\\nAutumn's beauty, a golden bliss.\\nCrisp air bites, a welcome chill,\\nNature's slumber, taking its fill.\\nFrom vibrant green to russet hue,\\nAutumn's magic, ever new.\\n\", type='TextMessage'), TextMessage(id='c90c441f-2e71-451f-94cf-1eb24e4e93c2', source='plot_writer', models_usage=RequestUsage(prompt_tokens=96, completion_tokens=0), metadata={}, created_at=datetime.datetime(2025, 8, 27, 12, 3, 3, 119415, tzinfo=datetime.timezone.utc), content='', type='TextMessage')], stop_reason='Maximum number of turns 2 reached.')"
      ]
     },
     "execution_count": 11,
     "metadata": {},
     "output_type": "execute_result"
    }
   ],
   "source": [
    "message"
   ]
  },
  {
   "cell_type": "code",
   "execution_count": 12,
   "id": "846488b5",
   "metadata": {},
   "outputs": [],
   "source": [
    "from autogen_agentchat.teams import RoundRobinGroupChat\n",
    "\n",
    "team3 = RoundRobinGroupChat(\n",
    "    participants= [plot_agent],\n",
    "    # max_turns=2\n",
    ")"
   ]
  },
  {
   "cell_type": "code",
   "execution_count": null,
   "id": "53d22100",
   "metadata": {},
   "outputs": [
    {
     "name": "stdout",
     "output_type": "stream",
     "text": [
      "source='user' models_usage=None metadata={} created_at=datetime.datetime(2025, 6, 19, 19, 9, 18, 365921, tzinfo=datetime.timezone.utc) content='Write a short poem about the fall season.' type='TextMessage'\n",
      "source='plot_writer' models_usage=RequestUsage(prompt_tokens=34, completion_tokens=103) metadata={} created_at=datetime.datetime(2025, 6, 19, 19, 9, 21, 780708, tzinfo=datetime.timezone.utc) content=\"Leaves of amber gently fall,  \\nDancing to the autumn's call.  \\nWhispers of the cooling breeze,  \\nWeaving through the golden trees.\\n\\nPumpkins gleam in sunset hues,  \\nBeneath a sky of deeper blues.  \\nSweaters warm against the chill,  \\nAs twilight wraps the quiet hill.\\n\\nCrisp and sweet, the air does beam,  \\nPainting worlds that softly dream.  \\nIn fall's embrace, nature's art,  \\nA season's song within the heart.  \" type='TextMessage'\n",
      "source='plot_writer' models_usage=RequestUsage(prompt_tokens=141, completion_tokens=1) metadata={} created_at=datetime.datetime(2025, 6, 19, 19, 9, 22, 717590, tzinfo=datetime.timezone.utc) content='\\n' type='TextMessage'\n",
      "source='plot_writer' models_usage=RequestUsage(prompt_tokens=146, completion_tokens=507) metadata={} created_at=datetime.datetime(2025, 6, 19, 19, 9, 34, 385709, tzinfo=datetime.timezone.utc) content=\"In a quaint town nestled between rolling hills and serene meadows, there resided a young Pokémon named Rietan, an inquisitive grass-type creature resembling a sprightly autumn leaf. Rietan had always admired the vibrant fall season with its blaze of colors and the crispness in the air that sang a different song each day.\\n\\nOne day, a mysterious letter arrived at Rietan's doorstep, sealed with an emblem depicting falling leaves. It spoke of the legendary Forest of Eterna - a mystical grove said to hide ancient secrets about the harmony between seasons. Legends whispered that whoever discovered these secrets would gain profound wisdom and the ability to help the world confront environmental changes.\\n\\nDespite being young and not yet evolved, Rietan’s curiosity and determination were boundless. With the arrival of the letter, something stirred within the young Pokémon. This journey promised discoveries that could not only transform its understanding of the world but also help protect its home from unpredictable climate shifts affecting the natural balance. \\n\\nRietan embarked on this vital journey at the break of dawn, the sun dipping the forest's floor in shades of gold. Along the way, Rietan faced numerous challenges: swift rivers to cross, ancient puzzles within the ruins of sunlit groves, and encounters with other Pokémon who both challenged and aided it. Each trial taught Rietan a lesson—patience from the weaving streams, courage from the solemn ruins, and empathy from its interactions with Pokémon who had their own stories and wisdom to share.\\n\\nAs the days passed, Rietan's resilience and understanding of nature deepened, enabling it to forge new connections with various Pokémon allies, including Ember the fiery Vulpix and Nimbus the gentle Drifloon, who lent their skills and companionship.\\n\\nEventually, Rietan reached the heart of the Forest of Eterna, where the leaves glowed with an ethereal light, unveiling the ancient secret: a hidden grove where seasons harmonized, showing that change and continuity could coexist beautifully. Drifting spirits of mythical Pokémon who once tended to the seasons revealed themselves, imparting knowledge that Rietan must share with the world.\\n\\nReturning home, Rietan was no longer the same timid leaf that left. It carried the wisdom of the seasons in its heart, ready to nurture its beloved town through the challenging changes ahead and maybe, someday, evolve into a wise figure among its peers.\\n\\nRietan's adventure had been more than a quest; it was a journey towards understanding the delicate balance of life—a balance where every whisper of autumn wind carried stories of transformations yet to come.\" type='TextMessage'\n",
      "source='plot_writer' models_usage=RequestUsage(prompt_tokens=657, completion_tokens=348) metadata={} created_at=datetime.datetime(2025, 6, 19, 19, 9, 40, 719265, tzinfo=datetime.timezone.utc) content=\"The journey had awakened a powerful sense of purpose in Rietan, initiating its evolution from a mere observer of nature’s cycles to a protector and teacher of the wisdom it had gathered. Inspired by the harmonious vision of the Forest of Eterna, Rietan committed itself to educating other Pokémon and the townspeople about the importance of preserving the delicate interplay of each season. It organized community gatherings where stories of its adventures were shared, captivating the listeners and encouraging them to appreciate and safeguard their environment.\\n\\nAccompanied by Ember, Nimbus, and newfound allies, Rietan began implementing small but impactful projects like reforestation and sustainable resource use within its community. Together, they planted trees that, like Rietan, aspired to grow tall and wise, providing shelter and sustenance to generations of Pokémon to come. These efforts slowly transformed the town into a haven where every resident, whether it walked, flew, or slithered, thrived in harmony with the natural shifts of the world around them.\\n\\nThe groves and meadows started to echo with the symphony of seasons, their orchestration forever shaped by Rietan’s vision. As the leaves turned once more, this time there was a touch of something new in the air—hope. The legacy of Rietan's journey lay not only in the myths it unraveled but in the actions it inspired, guiding its world towards a future where every fall whispered of renewal and every spring sang of resilience.\\n\\nIn time, Rietan became a respected elder within its community, embodying the very essence of autumn—change, wisdom, and the beauty of letting go to embrace new beginnings. The Pokémon’s journey had come full circle, imprinting on its world a story as enduring as the seasons themselves.\" type='TextMessage'\n",
      "source='plot_writer' models_usage=RequestUsage(prompt_tokens=1009, completion_tokens=348) metadata={} created_at=datetime.datetime(2025, 6, 19, 19, 9, 43, 898669, tzinfo=datetime.timezone.utc) content=\"The journey had awakened a powerful sense of purpose in Rietan, initiating its evolution from a mere observer of nature’s cycles to a protector and teacher of the wisdom it had gathered. Inspired by the harmonious vision of the Forest of Eterna, Rietan committed itself to educating other Pokémon and the townspeople about the importance of preserving the delicate interplay of each season. It organized community gatherings where stories of its adventures were shared, captivating the listeners and encouraging them to appreciate and safeguard their environment.\\n\\nAccompanied by Ember, Nimbus, and newfound allies, Rietan began implementing small but impactful projects like reforestation and sustainable resource use within its community. Together, they planted trees that, like Rietan, aspired to grow tall and wise, providing shelter and sustenance to generations of Pokémon to come. These efforts slowly transformed the town into a haven where every resident, whether it walked, flew, or slithered, thrived in harmony with the natural shifts of the world around them.\\n\\nThe groves and meadows started to echo with the symphony of seasons, their orchestration forever shaped by Rietan’s vision. As the leaves turned once more, this time there was a touch of something new in the air—hope. The legacy of Rietan's journey lay not only in the myths it unraveled but in the actions it inspired, guiding its world towards a future where every fall whispered of renewal and every spring sang of resilience.\\n\\nIn time, Rietan became a respected elder within its community, embodying the very essence of autumn—change, wisdom, and the beauty of letting go to embrace new beginnings. The Pokémon’s journey had come full circle, imprinting on its world a story as enduring as the seasons themselves.\" type='TextMessage'\n",
      "source='plot_writer' models_usage=RequestUsage(prompt_tokens=1361, completion_tokens=348) metadata={} created_at=datetime.datetime(2025, 6, 19, 19, 9, 46, 383950, tzinfo=datetime.timezone.utc) content=\"The journey had awakened a powerful sense of purpose in Rietan, initiating its evolution from a mere observer of nature’s cycles to a protector and teacher of the wisdom it had gathered. Inspired by the harmonious vision of the Forest of Eterna, Rietan committed itself to educating other Pokémon and the townspeople about the importance of preserving the delicate interplay of each season. It organized community gatherings where stories of its adventures were shared, captivating the listeners and encouraging them to appreciate and safeguard their environment.\\n\\nAccompanied by Ember, Nimbus, and newfound allies, Rietan began implementing small but impactful projects like reforestation and sustainable resource use within its community. Together, they planted trees that, like Rietan, aspired to grow tall and wise, providing shelter and sustenance to generations of Pokémon to come. These efforts slowly transformed the town into a haven where every resident, whether it walked, flew, or slithered, thrived in harmony with the natural shifts of the world around them.\\n\\nThe groves and meadows started to echo with the symphony of seasons, their orchestration forever shaped by Rietan’s vision. As the leaves turned once more, this time there was a touch of something new in the air—hope. The legacy of Rietan's journey lay not only in the myths it unraveled but in the actions it inspired, guiding its world towards a future where every fall whispered of renewal and every spring sang of resilience.\\n\\nIn time, Rietan became a respected elder within its community, embodying the very essence of autumn—change, wisdom, and the beauty of letting go to embrace new beginnings. The Pokémon’s journey had come full circle, imprinting on its world a story as enduring as the seasons themselves.\" type='TextMessage'\n",
      "source='plot_writer' models_usage=RequestUsage(prompt_tokens=1713, completion_tokens=348) metadata={} created_at=datetime.datetime(2025, 6, 19, 19, 9, 49, 598062, tzinfo=datetime.timezone.utc) content=\"The journey had awakened a powerful sense of purpose in Rietan, initiating its evolution from a mere observer of nature’s cycles to a protector and teacher of the wisdom it had gathered. Inspired by the harmonious vision of the Forest of Eterna, Rietan committed itself to educating other Pokémon and the townspeople about the importance of preserving the delicate interplay of each season. It organized community gatherings where stories of its adventures were shared, captivating the listeners and encouraging them to appreciate and safeguard their environment.\\n\\nAccompanied by Ember, Nimbus, and newfound allies, Rietan began implementing small but impactful projects like reforestation and sustainable resource use within its community. Together, they planted trees that, like Rietan, aspired to grow tall and wise, providing shelter and sustenance to generations of Pokémon to come. These efforts slowly transformed the town into a haven where every resident, whether it walked, flew, or slithered, thrived in harmony with the natural shifts of the world around them.\\n\\nThe groves and meadows started to echo with the symphony of seasons, their orchestration forever shaped by Rietan’s vision. As the leaves turned once more, this time there was a touch of something new in the air—hope. The legacy of Rietan's journey lay not only in the myths it unraveled but in the actions it inspired, guiding its world towards a future where every fall whispered of renewal and every spring sang of resilience.\\n\\nIn time, Rietan became a respected elder within its community, embodying the very essence of autumn—change, wisdom, and the beauty of letting go to embrace new beginnings. The Pokémon’s journey had come full circle, imprinting on its world a story as enduring as the seasons themselves.\" type='TextMessage'\n",
      "source='plot_writer' models_usage=RequestUsage(prompt_tokens=2065, completion_tokens=348) metadata={} created_at=datetime.datetime(2025, 6, 19, 19, 9, 52, 194432, tzinfo=datetime.timezone.utc) content=\"The journey had awakened a powerful sense of purpose in Rietan, initiating its evolution from a mere observer of nature’s cycles to a protector and teacher of the wisdom it had gathered. Inspired by the harmonious vision of the Forest of Eterna, Rietan committed itself to educating other Pokémon and the townspeople about the importance of preserving the delicate interplay of each season. It organized community gatherings where stories of its adventures were shared, captivating the listeners and encouraging them to appreciate and safeguard their environment.\\n\\nAccompanied by Ember, Nimbus, and newfound allies, Rietan began implementing small but impactful projects like reforestation and sustainable resource use within its community. Together, they planted trees that, like Rietan, aspired to grow tall and wise, providing shelter and sustenance to generations of Pokémon to come. These efforts slowly transformed the town into a haven where every resident, whether it walked, flew, or slithered, thrived in harmony with the natural shifts of the world around them.\\n\\nThe groves and meadows started to echo with the symphony of seasons, their orchestration forever shaped by Rietan’s vision. As the leaves turned once more, this time there was a touch of something new in the air—hope. The legacy of Rietan's journey lay not only in the myths it unraveled but in the actions it inspired, guiding its world towards a future where every fall whispered of renewal and every spring sang of resilience.\\n\\nIn time, Rietan became a respected elder within its community, embodying the very essence of autumn—change, wisdom, and the beauty of letting go to embrace new beginnings. The Pokémon’s journey had come full circle, imprinting on its world a story as enduring as the seasons themselves.\" type='TextMessage'\n",
      "source='plot_writer' models_usage=RequestUsage(prompt_tokens=2417, completion_tokens=348) metadata={} created_at=datetime.datetime(2025, 6, 19, 19, 9, 55, 497975, tzinfo=datetime.timezone.utc) content=\"The journey had awakened a powerful sense of purpose in Rietan, initiating its evolution from a mere observer of nature’s cycles to a protector and teacher of the wisdom it had gathered. Inspired by the harmonious vision of the Forest of Eterna, Rietan committed itself to educating other Pokémon and the townspeople about the importance of preserving the delicate interplay of each season. It organized community gatherings where stories of its adventures were shared, captivating the listeners and encouraging them to appreciate and safeguard their environment.\\n\\nAccompanied by Ember, Nimbus, and newfound allies, Rietan began implementing small but impactful projects like reforestation and sustainable resource use within its community. Together, they planted trees that, like Rietan, aspired to grow tall and wise, providing shelter and sustenance to generations of Pokémon to come. These efforts slowly transformed the town into a haven where every resident, whether it walked, flew, or slithered, thrived in harmony with the natural shifts of the world around them.\\n\\nThe groves and meadows started to echo with the symphony of seasons, their orchestration forever shaped by Rietan’s vision. As the leaves turned once more, this time there was a touch of something new in the air—hope. The legacy of Rietan's journey lay not only in the myths it unraveled but in the actions it inspired, guiding its world towards a future where every fall whispered of renewal and every spring sang of resilience.\\n\\nIn time, Rietan became a respected elder within its community, embodying the very essence of autumn—change, wisdom, and the beauty of letting go to embrace new beginnings. The Pokémon’s journey had come full circle, imprinting on its world a story as enduring as the seasons themselves.\" type='TextMessage'\n",
      "source='plot_writer' models_usage=RequestUsage(prompt_tokens=2769, completion_tokens=348) metadata={} created_at=datetime.datetime(2025, 6, 19, 19, 9, 57, 907957, tzinfo=datetime.timezone.utc) content=\"The journey had awakened a powerful sense of purpose in Rietan, initiating its evolution from a mere observer of nature’s cycles to a protector and teacher of the wisdom it had gathered. Inspired by the harmonious vision of the Forest of Eterna, Rietan committed itself to educating other Pokémon and the townspeople about the importance of preserving the delicate interplay of each season. It organized community gatherings where stories of its adventures were shared, captivating the listeners and encouraging them to appreciate and safeguard their environment.\\n\\nAccompanied by Ember, Nimbus, and newfound allies, Rietan began implementing small but impactful projects like reforestation and sustainable resource use within its community. Together, they planted trees that, like Rietan, aspired to grow tall and wise, providing shelter and sustenance to generations of Pokémon to come. These efforts slowly transformed the town into a haven where every resident, whether it walked, flew, or slithered, thrived in harmony with the natural shifts of the world around them.\\n\\nThe groves and meadows started to echo with the symphony of seasons, their orchestration forever shaped by Rietan’s vision. As the leaves turned once more, this time there was a touch of something new in the air—hope. The legacy of Rietan's journey lay not only in the myths it unraveled but in the actions it inspired, guiding its world towards a future where every fall whispered of renewal and every spring sang of resilience.\\n\\nIn time, Rietan became a respected elder within its community, embodying the very essence of autumn—change, wisdom, and the beauty of letting go to embrace new beginnings. The Pokémon’s journey had come full circle, imprinting on its world a story as enduring as the seasons themselves.\" type='TextMessage'\n",
      "source='plot_writer' models_usage=RequestUsage(prompt_tokens=3121, completion_tokens=348) metadata={} created_at=datetime.datetime(2025, 6, 19, 19, 10, 2, 944746, tzinfo=datetime.timezone.utc) content=\"The journey had awakened a powerful sense of purpose in Rietan, initiating its evolution from a mere observer of nature’s cycles to a protector and teacher of the wisdom it had gathered. Inspired by the harmonious vision of the Forest of Eterna, Rietan committed itself to educating other Pokémon and the townspeople about the importance of preserving the delicate interplay of each season. It organized community gatherings where stories of its adventures were shared, captivating the listeners and encouraging them to appreciate and safeguard their environment.\\n\\nAccompanied by Ember, Nimbus, and newfound allies, Rietan began implementing small but impactful projects like reforestation and sustainable resource use within its community. Together, they planted trees that, like Rietan, aspired to grow tall and wise, providing shelter and sustenance to generations of Pokémon to come. These efforts slowly transformed the town into a haven where every resident, whether it walked, flew, or slithered, thrived in harmony with the natural shifts of the world around them.\\n\\nThe groves and meadows started to echo with the symphony of seasons, their orchestration forever shaped by Rietan’s vision. As the leaves turned once more, this time there was a touch of something new in the air—hope. The legacy of Rietan's journey lay not only in the myths it unraveled but in the actions it inspired, guiding its world towards a future where every fall whispered of renewal and every spring sang of resilience.\\n\\nIn time, Rietan became a respected elder within its community, embodying the very essence of autumn—change, wisdom, and the beauty of letting go to embrace new beginnings. The Pokémon’s journey had come full circle, imprinting on its world a story as enduring as the seasons themselves.\" type='TextMessage'\n",
      "source='plot_writer' models_usage=RequestUsage(prompt_tokens=3473, completion_tokens=348) metadata={} created_at=datetime.datetime(2025, 6, 19, 19, 10, 5, 723569, tzinfo=datetime.timezone.utc) content=\"The journey had awakened a powerful sense of purpose in Rietan, initiating its evolution from a mere observer of nature’s cycles to a protector and teacher of the wisdom it had gathered. Inspired by the harmonious vision of the Forest of Eterna, Rietan committed itself to educating other Pokémon and the townspeople about the importance of preserving the delicate interplay of each season. It organized community gatherings where stories of its adventures were shared, captivating the listeners and encouraging them to appreciate and safeguard their environment.\\n\\nAccompanied by Ember, Nimbus, and newfound allies, Rietan began implementing small but impactful projects like reforestation and sustainable resource use within its community. Together, they planted trees that, like Rietan, aspired to grow tall and wise, providing shelter and sustenance to generations of Pokémon to come. These efforts slowly transformed the town into a haven where every resident, whether it walked, flew, or slithered, thrived in harmony with the natural shifts of the world around them.\\n\\nThe groves and meadows started to echo with the symphony of seasons, their orchestration forever shaped by Rietan’s vision. As the leaves turned once more, this time there was a touch of something new in the air—hope. The legacy of Rietan's journey lay not only in the myths it unraveled but in the actions it inspired, guiding its world towards a future where every fall whispered of renewal and every spring sang of resilience.\\n\\nIn time, Rietan became a respected elder within its community, embodying the very essence of autumn—change, wisdom, and the beauty of letting go to embrace new beginnings. The Pokémon’s journey had come full circle, imprinting on its world a story as enduring as the seasons themselves.\" type='TextMessage'\n",
      "source='plot_writer' models_usage=RequestUsage(prompt_tokens=3825, completion_tokens=348) metadata={} created_at=datetime.datetime(2025, 6, 19, 19, 10, 9, 454482, tzinfo=datetime.timezone.utc) content=\"The journey had awakened a powerful sense of purpose in Rietan, initiating its evolution from a mere observer of nature’s cycles to a protector and teacher of the wisdom it had gathered. Inspired by the harmonious vision of the Forest of Eterna, Rietan committed itself to educating other Pokémon and the townspeople about the importance of preserving the delicate interplay of each season. It organized community gatherings where stories of its adventures were shared, captivating the listeners and encouraging them to appreciate and safeguard their environment.\\n\\nAccompanied by Ember, Nimbus, and newfound allies, Rietan began implementing small but impactful projects like reforestation and sustainable resource use within its community. Together, they planted trees that, like Rietan, aspired to grow tall and wise, providing shelter and sustenance to generations of Pokémon to come. These efforts slowly transformed the town into a haven where every resident, whether it walked, flew, or slithered, thrived in harmony with the natural shifts of the world around them.\\n\\nThe groves and meadows started to echo with the symphony of seasons, their orchestration forever shaped by Rietan’s vision. As the leaves turned once more, this time there was a touch of something new in the air—hope. The legacy of Rietan's journey lay not only in the myths it unraveled but in the actions it inspired, guiding its world towards a future where every fall whispered of renewal and every spring sang of resilience.\\n\\nIn time, Rietan became a respected elder within its community, embodying the very essence of autumn—change, wisdom, and the beauty of letting go to embrace new beginnings. The Pokémon’s journey had come full circle, imprinting on its world a story as enduring as the seasons themselves.\" type='TextMessage'\n",
      "source='plot_writer' models_usage=RequestUsage(prompt_tokens=4177, completion_tokens=348) metadata={} created_at=datetime.datetime(2025, 6, 19, 19, 10, 12, 155435, tzinfo=datetime.timezone.utc) content=\"The journey had awakened a powerful sense of purpose in Rietan, initiating its evolution from a mere observer of nature’s cycles to a protector and teacher of the wisdom it had gathered. Inspired by the harmonious vision of the Forest of Eterna, Rietan committed itself to educating other Pokémon and the townspeople about the importance of preserving the delicate interplay of each season. It organized community gatherings where stories of its adventures were shared, captivating the listeners and encouraging them to appreciate and safeguard their environment.\\n\\nAccompanied by Ember, Nimbus, and newfound allies, Rietan began implementing small but impactful projects like reforestation and sustainable resource use within its community. Together, they planted trees that, like Rietan, aspired to grow tall and wise, providing shelter and sustenance to generations of Pokémon to come. These efforts slowly transformed the town into a haven where every resident, whether it walked, flew, or slithered, thrived in harmony with the natural shifts of the world around them.\\n\\nThe groves and meadows started to echo with the symphony of seasons, their orchestration forever shaped by Rietan’s vision. As the leaves turned once more, this time there was a touch of something new in the air—hope. The legacy of Rietan's journey lay not only in the myths it unraveled but in the actions it inspired, guiding its world towards a future where every fall whispered of renewal and every spring sang of resilience.\\n\\nIn time, Rietan became a respected elder within its community, embodying the very essence of autumn—change, wisdom, and the beauty of letting go to embrace new beginnings. The Pokémon’s journey had come full circle, imprinting on its world a story as enduring as the seasons themselves.\" type='TextMessage'\n",
      "source='plot_writer' models_usage=RequestUsage(prompt_tokens=4529, completion_tokens=348) metadata={} created_at=datetime.datetime(2025, 6, 19, 19, 10, 14, 805481, tzinfo=datetime.timezone.utc) content=\"The journey had awakened a powerful sense of purpose in Rietan, initiating its evolution from a mere observer of nature’s cycles to a protector and teacher of the wisdom it had gathered. Inspired by the harmonious vision of the Forest of Eterna, Rietan committed itself to educating other Pokémon and the townspeople about the importance of preserving the delicate interplay of each season. It organized community gatherings where stories of its adventures were shared, captivating the listeners and encouraging them to appreciate and safeguard their environment.\\n\\nAccompanied by Ember, Nimbus, and newfound allies, Rietan began implementing small but impactful projects like reforestation and sustainable resource use within its community. Together, they planted trees that, like Rietan, aspired to grow tall and wise, providing shelter and sustenance to generations of Pokémon to come. These efforts slowly transformed the town into a haven where every resident, whether it walked, flew, or slithered, thrived in harmony with the natural shifts of the world around them.\\n\\nThe groves and meadows started to echo with the symphony of seasons, their orchestration forever shaped by Rietan’s vision. As the leaves turned once more, this time there was a touch of something new in the air—hope. The legacy of Rietan's journey lay not only in the myths it unraveled but in the actions it inspired, guiding its world towards a future where every fall whispered of renewal and every spring sang of resilience.\\n\\nIn time, Rietan became a respected elder within its community, embodying the very essence of autumn—change, wisdom, and the beauty of letting go to embrace new beginnings. The Pokémon’s journey had come full circle, imprinting on its world a story as enduring as the seasons themselves.\" type='TextMessage'\n",
      "source='plot_writer' models_usage=RequestUsage(prompt_tokens=4881, completion_tokens=348) metadata={} created_at=datetime.datetime(2025, 6, 19, 19, 10, 17, 693017, tzinfo=datetime.timezone.utc) content=\"The journey had awakened a powerful sense of purpose in Rietan, initiating its evolution from a mere observer of nature’s cycles to a protector and teacher of the wisdom it had gathered. Inspired by the harmonious vision of the Forest of Eterna, Rietan committed itself to educating other Pokémon and the townspeople about the importance of preserving the delicate interplay of each season. It organized community gatherings where stories of its adventures were shared, captivating the listeners and encouraging them to appreciate and safeguard their environment.\\n\\nAccompanied by Ember, Nimbus, and newfound allies, Rietan began implementing small but impactful projects like reforestation and sustainable resource use within its community. Together, they planted trees that, like Rietan, aspired to grow tall and wise, providing shelter and sustenance to generations of Pokémon to come. These efforts slowly transformed the town into a haven where every resident, whether it walked, flew, or slithered, thrived in harmony with the natural shifts of the world around them.\\n\\nThe groves and meadows started to echo with the symphony of seasons, their orchestration forever shaped by Rietan’s vision. As the leaves turned once more, this time there was a touch of something new in the air—hope. The legacy of Rietan's journey lay not only in the myths it unraveled but in the actions it inspired, guiding its world towards a future where every fall whispered of renewal and every spring sang of resilience.\\n\\nIn time, Rietan became a respected elder within its community, embodying the very essence of autumn—change, wisdom, and the beauty of letting go to embrace new beginnings. The Pokémon’s journey had come full circle, imprinting on its world a story as enduring as the seasons themselves.\" type='TextMessage'\n"
     ]
    }
   ],
   "source": [
    "from autogen_agentchat.base import TaskResult\n",
    "\n",
    "# When running inside a script, use a async main function and call it from `asyncio.run(...)`.\n",
    "await team3.reset()  # Reset the team for a new task.\n",
    "async for message in team3.run_stream(task=\"Write a short poem about the fall season.\"):  # type: ignore\n",
    "    if isinstance(message, TaskResult):\n",
    "        print(\"Stop Reason:\", message.stop_reason)\n",
    "    else:\n",
    "        print(message)"
   ]
  },
  {
   "cell_type": "code",
   "execution_count": null,
   "id": "412412f3",
   "metadata": {},
   "outputs": [],
   "source": []
  }
 ],
 "metadata": {
  "kernelspec": {
   "display_name": "autogencrashcourse",
   "language": "python",
   "name": "python3"
  },
  "language_info": {
   "codemirror_mode": {
    "name": "ipython",
    "version": 3
   },
   "file_extension": ".py",
   "mimetype": "text/x-python",
   "name": "python",
   "nbconvert_exporter": "python",
   "pygments_lexer": "ipython3",
   "version": "3.13.2"
  }
 },
 "nbformat": 4,
 "nbformat_minor": 5
}

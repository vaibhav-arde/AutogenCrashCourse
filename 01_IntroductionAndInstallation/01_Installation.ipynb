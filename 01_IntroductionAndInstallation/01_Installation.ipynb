{
 "cells": [
  {
   "cell_type": "code",
   "execution_count": null,
   "id": "e7bc2563",
   "metadata": {
    "vscode": {
     "languageId": "plaintext"
    }
   },
   "outputs": [],
   "source": [
    "https://microsoft.github.io/autogen/stable//index.html\n",
    "https://github.com/microsoft/autogen"
   ]
  },
  {
   "cell_type": "code",
   "execution_count": null,
   "id": "84a1ccf3",
   "metadata": {
    "vscode": {
     "languageId": "plaintext"
    }
   },
   "outputs": [],
   "source": [
    "Add below to your requirements.txt. \n",
    "\n",
    "Don't use autogen/pyautogen\n",
    "\n",
    "\n",
    "autogen-agentchat\n",
    "autogen-core\n",
    "autogen-extension\n",
    "asyncio"
   ]
  }
 ],
 "metadata": {
  "language_info": {
   "name": "python"
  }
 },
 "nbformat": 4,
 "nbformat_minor": 5
}
